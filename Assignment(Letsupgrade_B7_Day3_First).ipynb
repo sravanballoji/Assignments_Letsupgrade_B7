{
 "cells": [
  {
   "cell_type": "markdown",
   "metadata": {},
   "source": [
    "# Assignment_Day 3_LetsUpgrad_B7(No:1)"
   ]
  },
  {
   "cell_type": "code",
   "execution_count": 2,
   "metadata": {},
   "outputs": [
    {
     "name": "stdout",
     "output_type": "stream",
     "text": [
      "Enter your altitude:600\n",
      "Safe to land the plane\n"
     ]
    }
   ],
   "source": [
    "Altitude = int(input(\"Enter your altitude:\"))\n",
    "if Altitude <= 1000:\n",
    "    print('Safe to land the plane')\n",
    "elif Altitude > 1000 and Altitude < 5000:\n",
    "    print('Bring down to 1000ft')\n",
    "else:\n",
    "    print('Go around and try later')"
   ]
  },
  {
   "cell_type": "code",
   "execution_count": 5,
   "metadata": {},
   "outputs": [
    {
     "name": "stdout",
     "output_type": "stream",
     "text": [
      "Enter your altitude:3500\n",
      "Bring down to 1000ft\n"
     ]
    }
   ],
   "source": [
    "Altitude = int(input(\"Enter your altitude:\"))\n",
    "if Altitude <= 1000:\n",
    "    print('Safe to land the plane')\n",
    "elif Altitude > 1000 and Altitude < 5000:\n",
    "    print('Bring down to 1000ft')\n",
    "else:\n",
    "    print('Go around and try later')"
   ]
  },
  {
   "cell_type": "code",
   "execution_count": 4,
   "metadata": {},
   "outputs": [
    {
     "name": "stdout",
     "output_type": "stream",
     "text": [
      "Enter your altitude:7500\n",
      "Go around and try later\n"
     ]
    }
   ],
   "source": [
    "Altitude = int(input(\"Enter your altitude:\"))\n",
    "if Altitude <= 1000:\n",
    "    print('Safe to land the plane')\n",
    "elif Altitude > 1000 and Altitude < 5000:\n",
    "    print('Bring down to 1000ft')\n",
    "else:\n",
    "    print('Go around and try later')"
   ]
  }
 ],
 "metadata": {
  "kernelspec": {
   "display_name": "Python 3",
   "language": "python",
   "name": "python3"
  },
  "language_info": {
   "codemirror_mode": {
    "name": "ipython",
    "version": 3
   },
   "file_extension": ".py",
   "mimetype": "text/x-python",
   "name": "python",
   "nbconvert_exporter": "python",
   "pygments_lexer": "ipython3",
   "version": "3.8.3"
  }
 },
 "nbformat": 4,
 "nbformat_minor": 4
}
