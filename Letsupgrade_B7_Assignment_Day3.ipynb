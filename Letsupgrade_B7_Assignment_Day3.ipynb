{
 "cells": [
  {
   "cell_type": "markdown",
   "metadata": {},
   "source": [
    "# Letsupgrade_B7_Assignment_Day3_1_If_else_STMT"
   ]
  },
  {
   "cell_type": "code",
   "execution_count": 13,
   "metadata": {},
   "outputs": [
    {
     "name": "stdout",
     "output_type": "stream",
     "text": [
      "Enter your altitude:800\n",
      "Safe to land the plane\n"
     ]
    }
   ],
   "source": [
    "Altitude = int(input(\"Enter your altitude:\"))\n",
    "if Altitude <= 1000:\n",
    "    print('Safe to land the plane')\n",
    "elif Altitude > 1000 and Altitude < 5000:\n",
    "    print('Bring down to 1000ft')\n",
    "else:\n",
    "    print('Go around and try later')"
   ]
  },
  {
   "cell_type": "code",
   "execution_count": 14,
   "metadata": {},
   "outputs": [
    {
     "name": "stdout",
     "output_type": "stream",
     "text": [
      "Enter your altitude:3900\n",
      "Bring down to 1000ft\n"
     ]
    }
   ],
   "source": [
    "Altitude = int(input(\"Enter your altitude:\"))\n",
    "if Altitude <= 1000:\n",
    "    print('Safe to land the plane')\n",
    "elif Altitude > 1000 and Altitude < 5000:\n",
    "    print('Bring down to 1000ft')\n",
    "else:\n",
    "    print('Go around and try later')"
   ]
  },
  {
   "cell_type": "code",
   "execution_count": 15,
   "metadata": {},
   "outputs": [
    {
     "name": "stdout",
     "output_type": "stream",
     "text": [
      "Enter your altitude:8000\n",
      "Go around and try later\n"
     ]
    }
   ],
   "source": [
    "Altitude = int(input(\"Enter your altitude:\"))\n",
    "if Altitude <= 1000:\n",
    "    print('Safe to land the plane')\n",
    "elif Altitude > 1000 and Altitude < 5000:\n",
    "    print('Bring down to 1000ft')\n",
    "else:\n",
    "    print('Go around and try later')"
   ]
  },
  {
   "cell_type": "markdown",
   "metadata": {},
   "source": [
    "# Prime numbers using For loop"
   ]
  },
  {
   "cell_type": "code",
   "execution_count": 9,
   "metadata": {},
   "outputs": [],
   "source": [
    "#Prime numbers 1-200"
   ]
  },
  {
   "cell_type": "code",
   "execution_count": 25,
   "metadata": {},
   "outputs": [
    {
     "name": "stdout",
     "output_type": "stream",
     "text": [
      "2\n",
      "3\n",
      "5\n",
      "7\n",
      "11\n",
      "13\n",
      "17\n",
      "19\n",
      "23\n",
      "29\n",
      "31\n",
      "37\n",
      "41\n",
      "43\n",
      "47\n",
      "53\n",
      "59\n",
      "61\n",
      "67\n",
      "71\n",
      "73\n",
      "79\n",
      "83\n",
      "89\n",
      "97\n",
      "101\n",
      "103\n",
      "107\n",
      "109\n",
      "113\n",
      "127\n",
      "131\n",
      "137\n",
      "139\n",
      "149\n",
      "151\n",
      "157\n",
      "163\n",
      "167\n",
      "173\n",
      "179\n",
      "181\n",
      "191\n",
      "193\n",
      "197\n",
      "199\n"
     ]
    }
   ],
   "source": [
    "for num in range(1,201):\n",
    "    if num>1:\n",
    "        for i in range(2,num):\n",
    "            if (num % i)==0:\n",
    "                break\n",
    "    \n",
    "        else:\n",
    "            print(num)"
   ]
  },
  {
   "cell_type": "code",
   "execution_count": null,
   "metadata": {},
   "outputs": [],
   "source": []
  }
 ],
 "metadata": {
  "kernelspec": {
   "display_name": "Python 3",
   "language": "python",
   "name": "python3"
  },
  "language_info": {
   "codemirror_mode": {
    "name": "ipython",
    "version": 3
   },
   "file_extension": ".py",
   "mimetype": "text/x-python",
   "name": "python",
   "nbconvert_exporter": "python",
   "pygments_lexer": "ipython3",
   "version": "3.8.3"
  }
 },
 "nbformat": 4,
 "nbformat_minor": 4
}
